{
  "cells": [
    {
      "cell_type": "code",
      "execution_count": null,
      "metadata": {
        "colab": {
          "base_uri": "https://localhost:8080/"
        },
        "id": "Jm7rqqTK2Bq6",
        "outputId": "7e838fa9-7775-45a7-c446-21a011cb1677"
      },
      "outputs": [],
      "source": [
        "# Connect to our google drive\n",
        "from google.colab import drive\n",
        "drive.mount('/content/drive')"
      ]
    },
    {
      "cell_type": "code",
      "execution_count": null,
      "metadata": {
        "colab": {
          "base_uri": "https://localhost:8080/"
        },
        "id": "Mj81QjQF7XGA",
        "outputId": "f4c399d7-65ce-4dd9-a205-67fcbd1e3a39"
      },
      "outputs": [],
      "source": [
        "!pip install kaggle"
      ]
    },
    {
      "cell_type": "code",
      "execution_count": null,
      "metadata": {
        "colab": {
          "base_uri": "https://localhost:8080/"
        },
        "id": "c0XIKPBa8M5Q",
        "outputId": "e9e802fb-f30e-458a-804b-a702598f584d"
      },
      "outputs": [],
      "source": [
        "!mkdir ~/.kaggle\n",
        "# !touch ~/.kaggle/kaggle.json"
      ]
    },
    {
      "cell_type": "code",
      "execution_count": null,
      "metadata": {
        "id": "4LPAHZcZ-BuA"
      },
      "outputs": [],
      "source": [
        "import json\n",
        "# For Token and key we should download a Json file from our Kaggle (\"Account\" --> \"Create API Token\")\n",
        "# a Json file will be download. open with a editor and copy Token and Key\n",
        "token = {\"username\":\"Your user name\",\"key\":\"Your Key\"}\n",
        "with open('/root/.kaggle/kaggle.json', 'w') as file:\n",
        "  json.dump(token, file)"
      ]
    },
    {
      "cell_type": "code",
      "execution_count": null,
      "metadata": {
        "id": "-wmQ_ig__XtG"
      },
      "outputs": [],
      "source": [
        "# Kaggle documents insist to run this code for privacy\n",
        "!chmod 600 ~/.kaggle/kaggle.json"
      ]
    },
    {
      "cell_type": "code",
      "execution_count": null,
      "metadata": {
        "colab": {
          "base_uri": "https://localhost:8080/"
        },
        "id": "usOIo-ajxLLZ",
        "outputId": "98fa706d-ef24-42e2-8499-e43aa1d5d999"
      },
      "outputs": [],
      "source": [
        "# Select \"Copy API Command\" from kaggle page that contain dataset. (It's in three dots on the right side)\n",
        "!kaggle datasets download -d rajkumarl/people-clothing-segmentation"
      ]
    },
    {
      "cell_type": "code",
      "execution_count": null,
      "metadata": {
        "id": "kA58Zyzt8Uyc"
      },
      "outputs": [],
      "source": [
        "!mkdir drive/MyDrive/Dataset/Clothes_Segmentation/\n",
        "!unzip people-clothing-segmentation.zip -d drive/MyDrive/Dataset/Clothes_Segmentation/"
      ]
    }
  ],
  "metadata": {
    "colab": {
      "provenance": []
    },
    "kernelspec": {
      "display_name": "Python 3",
      "name": "python3"
    },
    "language_info": {
      "name": "python"
    }
  },
  "nbformat": 4,
  "nbformat_minor": 0
}
